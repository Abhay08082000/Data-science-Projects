{
 "cells": [
  {
   "cell_type": "code",
   "execution_count": 1,
   "id": "70dec5cd",
   "metadata": {},
   "outputs": [],
   "source": [
    "import pandas as pd   \n",
    "import numpy as np \n"
   ]
  },
  {
   "cell_type": "code",
   "execution_count": 2,
   "id": "156eae94",
   "metadata": {},
   "outputs": [],
   "source": [
    "df=pd.read_csv(r\"C:\\Users\\bisht\\Downloads\\raw.githubusercontent.com_anunda-nyagami_webscraping-imdb-video-game-details_main_data_imdb_video_game_rating.csv\")"
   ]
  },
  {
   "cell_type": "code",
   "execution_count": 3,
   "id": "14dc7f33",
   "metadata": {},
   "outputs": [
    {
     "data": {
      "text/html": [
       "<div>\n",
       "<style scoped>\n",
       "    .dataframe tbody tr th:only-of-type {\n",
       "        vertical-align: middle;\n",
       "    }\n",
       "\n",
       "    .dataframe tbody tr th {\n",
       "        vertical-align: top;\n",
       "    }\n",
       "\n",
       "    .dataframe thead th {\n",
       "        text-align: right;\n",
       "    }\n",
       "</style>\n",
       "<table border=\"1\" class=\"dataframe\">\n",
       "  <thead>\n",
       "    <tr style=\"text-align: right;\">\n",
       "      <th></th>\n",
       "      <th>Unnamed: 0</th>\n",
       "      <th>title</th>\n",
       "      <th>year</th>\n",
       "      <th>genre</th>\n",
       "      <th>rating</th>\n",
       "      <th>votes</th>\n",
       "      <th>directors</th>\n",
       "      <th>plot</th>\n",
       "    </tr>\n",
       "  </thead>\n",
       "  <tbody>\n",
       "    <tr>\n",
       "      <th>0</th>\n",
       "      <td>0</td>\n",
       "      <td>The Last of Us: Part I</td>\n",
       "      <td>2022</td>\n",
       "      <td>Action, Adventure, Drama</td>\n",
       "      <td>9.8</td>\n",
       "      <td>601</td>\n",
       "      <td>Matthew Gallant, Bruce Straley</td>\n",
       "      <td>Experience the emotional storytelling and unfo...</td>\n",
       "    </tr>\n",
       "    <tr>\n",
       "      <th>1</th>\n",
       "      <td>1</td>\n",
       "      <td>Red Dead Redemption II</td>\n",
       "      <td>2018</td>\n",
       "      <td>Action, Adventure, Crime</td>\n",
       "      <td>9.7</td>\n",
       "      <td>36,441</td>\n",
       "      <td>Missing</td>\n",
       "      <td>Amidst the decline of the Wild West at the tur...</td>\n",
       "    </tr>\n",
       "    <tr>\n",
       "      <th>2</th>\n",
       "      <td>2</td>\n",
       "      <td>The Witcher 3: Wild Hunt - Blood and Wine</td>\n",
       "      <td>2016</td>\n",
       "      <td>Action, Adventure, Drama</td>\n",
       "      <td>9.7</td>\n",
       "      <td>7,610</td>\n",
       "      <td>Konrad Tomaszkiewicz</td>\n",
       "      <td>Geralt is in the southern province of Toussain...</td>\n",
       "    </tr>\n",
       "    <tr>\n",
       "      <th>3</th>\n",
       "      <td>3</td>\n",
       "      <td>The Witcher 3: Wild Hunt</td>\n",
       "      <td>2015</td>\n",
       "      <td>Action, Adventure, Drama</td>\n",
       "      <td>9.7</td>\n",
       "      <td>26,328</td>\n",
       "      <td>Konrad Tomaszkiewicz</td>\n",
       "      <td>A monster hunter for hire embarks on an epic j...</td>\n",
       "    </tr>\n",
       "    <tr>\n",
       "      <th>4</th>\n",
       "      <td>4</td>\n",
       "      <td>The Last of Us</td>\n",
       "      <td>2013</td>\n",
       "      <td>Action, Adventure, Drama</td>\n",
       "      <td>9.7</td>\n",
       "      <td>61,103</td>\n",
       "      <td>Neil Druckmann, Bruce Straley</td>\n",
       "      <td>In a hostile, post-pandemic world, Joel and El...</td>\n",
       "    </tr>\n",
       "    <tr>\n",
       "      <th>...</th>\n",
       "      <td>...</td>\n",
       "      <td>...</td>\n",
       "      <td>...</td>\n",
       "      <td>...</td>\n",
       "      <td>...</td>\n",
       "      <td>...</td>\n",
       "      <td>...</td>\n",
       "      <td>...</td>\n",
       "    </tr>\n",
       "    <tr>\n",
       "      <th>12630</th>\n",
       "      <td>12633</td>\n",
       "      <td>Superman</td>\n",
       "      <td>1999</td>\n",
       "      <td>Action, Adventure, Family</td>\n",
       "      <td>1.4</td>\n",
       "      <td>646</td>\n",
       "      <td>Missing</td>\n",
       "      <td>The first 3D Superman game. Your friends Lois ...</td>\n",
       "    </tr>\n",
       "    <tr>\n",
       "      <th>12631</th>\n",
       "      <td>12634</td>\n",
       "      <td>Action 52</td>\n",
       "      <td>1991</td>\n",
       "      <td>Action, Family, Fantasy</td>\n",
       "      <td>1.3</td>\n",
       "      <td>135</td>\n",
       "      <td>Raul Gomila, Vince Perri</td>\n",
       "      <td>Play the action at your fingertips with 52 gam...</td>\n",
       "    </tr>\n",
       "    <tr>\n",
       "      <th>12632</th>\n",
       "      <td>12635</td>\n",
       "      <td>Plumbers Don't Wear Ties</td>\n",
       "      <td>1994</td>\n",
       "      <td>Comedy, Romance</td>\n",
       "      <td>1.3</td>\n",
       "      <td>338</td>\n",
       "      <td>Michael Anderson</td>\n",
       "      <td>John, an unattached plumber, meets and falls i...</td>\n",
       "    </tr>\n",
       "    <tr>\n",
       "      <th>12633</th>\n",
       "      <td>12636</td>\n",
       "      <td>Animal Soccer World</td>\n",
       "      <td>2005</td>\n",
       "      <td>Animation, Sport</td>\n",
       "      <td>1.2</td>\n",
       "      <td>125</td>\n",
       "      <td>Roswitha Haas</td>\n",
       "      <td>Everybody is busy with the preparations for th...</td>\n",
       "    </tr>\n",
       "    <tr>\n",
       "      <th>12634</th>\n",
       "      <td>12637</td>\n",
       "      <td>CrazyBus</td>\n",
       "      <td>2004</td>\n",
       "      <td>Adventure, Family</td>\n",
       "      <td>1.0</td>\n",
       "      <td>126</td>\n",
       "      <td>Tom Maneiro</td>\n",
       "      <td>You get to select your bus and drive it across...</td>\n",
       "    </tr>\n",
       "  </tbody>\n",
       "</table>\n",
       "<p>12635 rows × 8 columns</p>\n",
       "</div>"
      ],
      "text/plain": [
       "       Unnamed: 0                                      title  year  \\\n",
       "0               0                     The Last of Us: Part I  2022   \n",
       "1               1                     Red Dead Redemption II  2018   \n",
       "2               2  The Witcher 3: Wild Hunt - Blood and Wine  2016   \n",
       "3               3                   The Witcher 3: Wild Hunt  2015   \n",
       "4               4                             The Last of Us  2013   \n",
       "...           ...                                        ...   ...   \n",
       "12630       12633                                   Superman  1999   \n",
       "12631       12634                                  Action 52  1991   \n",
       "12632       12635                   Plumbers Don't Wear Ties  1994   \n",
       "12633       12636                        Animal Soccer World  2005   \n",
       "12634       12637                                   CrazyBus  2004   \n",
       "\n",
       "                           genre  rating   votes  \\\n",
       "0       Action, Adventure, Drama     9.8     601   \n",
       "1       Action, Adventure, Crime     9.7  36,441   \n",
       "2       Action, Adventure, Drama     9.7   7,610   \n",
       "3       Action, Adventure, Drama     9.7  26,328   \n",
       "4       Action, Adventure, Drama     9.7  61,103   \n",
       "...                          ...     ...     ...   \n",
       "12630  Action, Adventure, Family     1.4     646   \n",
       "12631    Action, Family, Fantasy     1.3     135   \n",
       "12632            Comedy, Romance     1.3     338   \n",
       "12633           Animation, Sport     1.2     125   \n",
       "12634          Adventure, Family     1.0     126   \n",
       "\n",
       "                            directors  \\\n",
       "0      Matthew Gallant, Bruce Straley   \n",
       "1                             Missing   \n",
       "2                Konrad Tomaszkiewicz   \n",
       "3                Konrad Tomaszkiewicz   \n",
       "4       Neil Druckmann, Bruce Straley   \n",
       "...                               ...   \n",
       "12630                         Missing   \n",
       "12631        Raul Gomila, Vince Perri   \n",
       "12632                Michael Anderson   \n",
       "12633                   Roswitha Haas   \n",
       "12634                     Tom Maneiro   \n",
       "\n",
       "                                                    plot  \n",
       "0      Experience the emotional storytelling and unfo...  \n",
       "1      Amidst the decline of the Wild West at the tur...  \n",
       "2      Geralt is in the southern province of Toussain...  \n",
       "3      A monster hunter for hire embarks on an epic j...  \n",
       "4      In a hostile, post-pandemic world, Joel and El...  \n",
       "...                                                  ...  \n",
       "12630  The first 3D Superman game. Your friends Lois ...  \n",
       "12631  Play the action at your fingertips with 52 gam...  \n",
       "12632  John, an unattached plumber, meets and falls i...  \n",
       "12633  Everybody is busy with the preparations for th...  \n",
       "12634  You get to select your bus and drive it across...  \n",
       "\n",
       "[12635 rows x 8 columns]"
      ]
     },
     "execution_count": 3,
     "metadata": {},
     "output_type": "execute_result"
    }
   ],
   "source": [
    "df"
   ]
  },
  {
   "cell_type": "code",
   "execution_count": 4,
   "id": "29ae12d8",
   "metadata": {},
   "outputs": [
    {
     "data": {
      "text/plain": [
       "Index(['Unnamed: 0', 'title', 'year', 'genre', 'rating', 'votes', 'directors',\n",
       "       'plot'],\n",
       "      dtype='object')"
      ]
     },
     "execution_count": 4,
     "metadata": {},
     "output_type": "execute_result"
    }
   ],
   "source": [
    "df.columns"
   ]
  },
  {
   "cell_type": "code",
   "execution_count": 5,
   "id": "a6db115a",
   "metadata": {},
   "outputs": [],
   "source": [
    "df=df.iloc[:,1:]"
   ]
  },
  {
   "cell_type": "code",
   "execution_count": 6,
   "id": "67814852",
   "metadata": {},
   "outputs": [
    {
     "name": "stdout",
     "output_type": "stream",
     "text": [
      "<class 'pandas.core.frame.DataFrame'>\n",
      "RangeIndex: 12635 entries, 0 to 12634\n",
      "Data columns (total 7 columns):\n",
      " #   Column     Non-Null Count  Dtype  \n",
      "---  ------     --------------  -----  \n",
      " 0   title      12635 non-null  object \n",
      " 1   year       12635 non-null  object \n",
      " 2   genre      12635 non-null  object \n",
      " 3   rating     12635 non-null  float64\n",
      " 4   votes      12635 non-null  object \n",
      " 5   directors  12635 non-null  object \n",
      " 6   plot       12635 non-null  object \n",
      "dtypes: float64(1), object(6)\n",
      "memory usage: 691.1+ KB\n"
     ]
    }
   ],
   "source": [
    "df.info()"
   ]
  },
  {
   "cell_type": "code",
   "execution_count": 7,
   "id": "06956fa1",
   "metadata": {},
   "outputs": [],
   "source": [
    "del df['directors']\n",
    "del df['year']"
   ]
  },
  {
   "cell_type": "code",
   "execution_count": 8,
   "id": "51218ec8",
   "metadata": {},
   "outputs": [
    {
     "data": {
      "text/html": [
       "<div>\n",
       "<style scoped>\n",
       "    .dataframe tbody tr th:only-of-type {\n",
       "        vertical-align: middle;\n",
       "    }\n",
       "\n",
       "    .dataframe tbody tr th {\n",
       "        vertical-align: top;\n",
       "    }\n",
       "\n",
       "    .dataframe thead th {\n",
       "        text-align: right;\n",
       "    }\n",
       "</style>\n",
       "<table border=\"1\" class=\"dataframe\">\n",
       "  <thead>\n",
       "    <tr style=\"text-align: right;\">\n",
       "      <th></th>\n",
       "      <th>title</th>\n",
       "      <th>genre</th>\n",
       "      <th>rating</th>\n",
       "      <th>votes</th>\n",
       "      <th>plot</th>\n",
       "    </tr>\n",
       "  </thead>\n",
       "  <tbody>\n",
       "    <tr>\n",
       "      <th>0</th>\n",
       "      <td>The Last of Us: Part I</td>\n",
       "      <td>Action, Adventure, Drama</td>\n",
       "      <td>9.8</td>\n",
       "      <td>601</td>\n",
       "      <td>Experience the emotional storytelling and unfo...</td>\n",
       "    </tr>\n",
       "    <tr>\n",
       "      <th>1</th>\n",
       "      <td>Red Dead Redemption II</td>\n",
       "      <td>Action, Adventure, Crime</td>\n",
       "      <td>9.7</td>\n",
       "      <td>36,441</td>\n",
       "      <td>Amidst the decline of the Wild West at the tur...</td>\n",
       "    </tr>\n",
       "    <tr>\n",
       "      <th>2</th>\n",
       "      <td>The Witcher 3: Wild Hunt - Blood and Wine</td>\n",
       "      <td>Action, Adventure, Drama</td>\n",
       "      <td>9.7</td>\n",
       "      <td>7,610</td>\n",
       "      <td>Geralt is in the southern province of Toussain...</td>\n",
       "    </tr>\n",
       "    <tr>\n",
       "      <th>3</th>\n",
       "      <td>The Witcher 3: Wild Hunt</td>\n",
       "      <td>Action, Adventure, Drama</td>\n",
       "      <td>9.7</td>\n",
       "      <td>26,328</td>\n",
       "      <td>A monster hunter for hire embarks on an epic j...</td>\n",
       "    </tr>\n",
       "    <tr>\n",
       "      <th>4</th>\n",
       "      <td>The Last of Us</td>\n",
       "      <td>Action, Adventure, Drama</td>\n",
       "      <td>9.7</td>\n",
       "      <td>61,103</td>\n",
       "      <td>In a hostile, post-pandemic world, Joel and El...</td>\n",
       "    </tr>\n",
       "    <tr>\n",
       "      <th>...</th>\n",
       "      <td>...</td>\n",
       "      <td>...</td>\n",
       "      <td>...</td>\n",
       "      <td>...</td>\n",
       "      <td>...</td>\n",
       "    </tr>\n",
       "    <tr>\n",
       "      <th>12630</th>\n",
       "      <td>Superman</td>\n",
       "      <td>Action, Adventure, Family</td>\n",
       "      <td>1.4</td>\n",
       "      <td>646</td>\n",
       "      <td>The first 3D Superman game. Your friends Lois ...</td>\n",
       "    </tr>\n",
       "    <tr>\n",
       "      <th>12631</th>\n",
       "      <td>Action 52</td>\n",
       "      <td>Action, Family, Fantasy</td>\n",
       "      <td>1.3</td>\n",
       "      <td>135</td>\n",
       "      <td>Play the action at your fingertips with 52 gam...</td>\n",
       "    </tr>\n",
       "    <tr>\n",
       "      <th>12632</th>\n",
       "      <td>Plumbers Don't Wear Ties</td>\n",
       "      <td>Comedy, Romance</td>\n",
       "      <td>1.3</td>\n",
       "      <td>338</td>\n",
       "      <td>John, an unattached plumber, meets and falls i...</td>\n",
       "    </tr>\n",
       "    <tr>\n",
       "      <th>12633</th>\n",
       "      <td>Animal Soccer World</td>\n",
       "      <td>Animation, Sport</td>\n",
       "      <td>1.2</td>\n",
       "      <td>125</td>\n",
       "      <td>Everybody is busy with the preparations for th...</td>\n",
       "    </tr>\n",
       "    <tr>\n",
       "      <th>12634</th>\n",
       "      <td>CrazyBus</td>\n",
       "      <td>Adventure, Family</td>\n",
       "      <td>1.0</td>\n",
       "      <td>126</td>\n",
       "      <td>You get to select your bus and drive it across...</td>\n",
       "    </tr>\n",
       "  </tbody>\n",
       "</table>\n",
       "<p>12635 rows × 5 columns</p>\n",
       "</div>"
      ],
      "text/plain": [
       "                                           title                      genre  \\\n",
       "0                         The Last of Us: Part I   Action, Adventure, Drama   \n",
       "1                         Red Dead Redemption II   Action, Adventure, Crime   \n",
       "2      The Witcher 3: Wild Hunt - Blood and Wine   Action, Adventure, Drama   \n",
       "3                       The Witcher 3: Wild Hunt   Action, Adventure, Drama   \n",
       "4                                 The Last of Us   Action, Adventure, Drama   \n",
       "...                                          ...                        ...   \n",
       "12630                                   Superman  Action, Adventure, Family   \n",
       "12631                                  Action 52    Action, Family, Fantasy   \n",
       "12632                   Plumbers Don't Wear Ties            Comedy, Romance   \n",
       "12633                        Animal Soccer World           Animation, Sport   \n",
       "12634                                   CrazyBus          Adventure, Family   \n",
       "\n",
       "       rating   votes                                               plot  \n",
       "0         9.8     601  Experience the emotional storytelling and unfo...  \n",
       "1         9.7  36,441  Amidst the decline of the Wild West at the tur...  \n",
       "2         9.7   7,610  Geralt is in the southern province of Toussain...  \n",
       "3         9.7  26,328  A monster hunter for hire embarks on an epic j...  \n",
       "4         9.7  61,103  In a hostile, post-pandemic world, Joel and El...  \n",
       "...       ...     ...                                                ...  \n",
       "12630     1.4     646  The first 3D Superman game. Your friends Lois ...  \n",
       "12631     1.3     135  Play the action at your fingertips with 52 gam...  \n",
       "12632     1.3     338  John, an unattached plumber, meets and falls i...  \n",
       "12633     1.2     125  Everybody is busy with the preparations for th...  \n",
       "12634     1.0     126  You get to select your bus and drive it across...  \n",
       "\n",
       "[12635 rows x 5 columns]"
      ]
     },
     "execution_count": 8,
     "metadata": {},
     "output_type": "execute_result"
    }
   ],
   "source": [
    "df"
   ]
  },
  {
   "cell_type": "code",
   "execution_count": 9,
   "id": "17eb8146",
   "metadata": {},
   "outputs": [
    {
     "data": {
      "text/html": [
       "<div>\n",
       "<style scoped>\n",
       "    .dataframe tbody tr th:only-of-type {\n",
       "        vertical-align: middle;\n",
       "    }\n",
       "\n",
       "    .dataframe tbody tr th {\n",
       "        vertical-align: top;\n",
       "    }\n",
       "\n",
       "    .dataframe thead th {\n",
       "        text-align: right;\n",
       "    }\n",
       "</style>\n",
       "<table border=\"1\" class=\"dataframe\">\n",
       "  <thead>\n",
       "    <tr style=\"text-align: right;\">\n",
       "      <th></th>\n",
       "      <th>title</th>\n",
       "      <th>genre</th>\n",
       "      <th>rating</th>\n",
       "      <th>votes</th>\n",
       "      <th>plot</th>\n",
       "      <th>tags</th>\n",
       "    </tr>\n",
       "  </thead>\n",
       "  <tbody>\n",
       "    <tr>\n",
       "      <th>0</th>\n",
       "      <td>The Last of Us: Part I</td>\n",
       "      <td>Action, Adventure, Drama</td>\n",
       "      <td>9.8</td>\n",
       "      <td>601</td>\n",
       "      <td>Experience the emotional storytelling and unfo...</td>\n",
       "      <td>Action, Adventure, Drama,9.8,Experience the em...</td>\n",
       "    </tr>\n",
       "    <tr>\n",
       "      <th>1</th>\n",
       "      <td>Red Dead Redemption II</td>\n",
       "      <td>Action, Adventure, Crime</td>\n",
       "      <td>9.7</td>\n",
       "      <td>36,441</td>\n",
       "      <td>Amidst the decline of the Wild West at the tur...</td>\n",
       "      <td>Action, Adventure, Crime,9.7,Amidst the declin...</td>\n",
       "    </tr>\n",
       "    <tr>\n",
       "      <th>2</th>\n",
       "      <td>The Witcher 3: Wild Hunt - Blood and Wine</td>\n",
       "      <td>Action, Adventure, Drama</td>\n",
       "      <td>9.7</td>\n",
       "      <td>7,610</td>\n",
       "      <td>Geralt is in the southern province of Toussain...</td>\n",
       "      <td>Action, Adventure, Drama,9.7,Geralt is in the ...</td>\n",
       "    </tr>\n",
       "    <tr>\n",
       "      <th>3</th>\n",
       "      <td>The Witcher 3: Wild Hunt</td>\n",
       "      <td>Action, Adventure, Drama</td>\n",
       "      <td>9.7</td>\n",
       "      <td>26,328</td>\n",
       "      <td>A monster hunter for hire embarks on an epic j...</td>\n",
       "      <td>Action, Adventure, Drama,9.7,A monster hunter ...</td>\n",
       "    </tr>\n",
       "    <tr>\n",
       "      <th>4</th>\n",
       "      <td>The Last of Us</td>\n",
       "      <td>Action, Adventure, Drama</td>\n",
       "      <td>9.7</td>\n",
       "      <td>61,103</td>\n",
       "      <td>In a hostile, post-pandemic world, Joel and El...</td>\n",
       "      <td>Action, Adventure, Drama,9.7,In a hostile, pos...</td>\n",
       "    </tr>\n",
       "    <tr>\n",
       "      <th>...</th>\n",
       "      <td>...</td>\n",
       "      <td>...</td>\n",
       "      <td>...</td>\n",
       "      <td>...</td>\n",
       "      <td>...</td>\n",
       "      <td>...</td>\n",
       "    </tr>\n",
       "    <tr>\n",
       "      <th>12630</th>\n",
       "      <td>Superman</td>\n",
       "      <td>Action, Adventure, Family</td>\n",
       "      <td>1.4</td>\n",
       "      <td>646</td>\n",
       "      <td>The first 3D Superman game. Your friends Lois ...</td>\n",
       "      <td>Action, Adventure, Family,1.4,The first 3D Sup...</td>\n",
       "    </tr>\n",
       "    <tr>\n",
       "      <th>12631</th>\n",
       "      <td>Action 52</td>\n",
       "      <td>Action, Family, Fantasy</td>\n",
       "      <td>1.3</td>\n",
       "      <td>135</td>\n",
       "      <td>Play the action at your fingertips with 52 gam...</td>\n",
       "      <td>Action, Family, Fantasy,1.3,Play the action at...</td>\n",
       "    </tr>\n",
       "    <tr>\n",
       "      <th>12632</th>\n",
       "      <td>Plumbers Don't Wear Ties</td>\n",
       "      <td>Comedy, Romance</td>\n",
       "      <td>1.3</td>\n",
       "      <td>338</td>\n",
       "      <td>John, an unattached plumber, meets and falls i...</td>\n",
       "      <td>Comedy, Romance,1.3,John, an unattached plumbe...</td>\n",
       "    </tr>\n",
       "    <tr>\n",
       "      <th>12633</th>\n",
       "      <td>Animal Soccer World</td>\n",
       "      <td>Animation, Sport</td>\n",
       "      <td>1.2</td>\n",
       "      <td>125</td>\n",
       "      <td>Everybody is busy with the preparations for th...</td>\n",
       "      <td>Animation, Sport,1.2,Everybody is busy with th...</td>\n",
       "    </tr>\n",
       "    <tr>\n",
       "      <th>12634</th>\n",
       "      <td>CrazyBus</td>\n",
       "      <td>Adventure, Family</td>\n",
       "      <td>1.0</td>\n",
       "      <td>126</td>\n",
       "      <td>You get to select your bus and drive it across...</td>\n",
       "      <td>Adventure, Family,1.0,You get to select your b...</td>\n",
       "    </tr>\n",
       "  </tbody>\n",
       "</table>\n",
       "<p>12635 rows × 6 columns</p>\n",
       "</div>"
      ],
      "text/plain": [
       "                                           title                      genre  \\\n",
       "0                         The Last of Us: Part I   Action, Adventure, Drama   \n",
       "1                         Red Dead Redemption II   Action, Adventure, Crime   \n",
       "2      The Witcher 3: Wild Hunt - Blood and Wine   Action, Adventure, Drama   \n",
       "3                       The Witcher 3: Wild Hunt   Action, Adventure, Drama   \n",
       "4                                 The Last of Us   Action, Adventure, Drama   \n",
       "...                                          ...                        ...   \n",
       "12630                                   Superman  Action, Adventure, Family   \n",
       "12631                                  Action 52    Action, Family, Fantasy   \n",
       "12632                   Plumbers Don't Wear Ties            Comedy, Romance   \n",
       "12633                        Animal Soccer World           Animation, Sport   \n",
       "12634                                   CrazyBus          Adventure, Family   \n",
       "\n",
       "       rating   votes                                               plot  \\\n",
       "0         9.8     601  Experience the emotional storytelling and unfo...   \n",
       "1         9.7  36,441  Amidst the decline of the Wild West at the tur...   \n",
       "2         9.7   7,610  Geralt is in the southern province of Toussain...   \n",
       "3         9.7  26,328  A monster hunter for hire embarks on an epic j...   \n",
       "4         9.7  61,103  In a hostile, post-pandemic world, Joel and El...   \n",
       "...       ...     ...                                                ...   \n",
       "12630     1.4     646  The first 3D Superman game. Your friends Lois ...   \n",
       "12631     1.3     135  Play the action at your fingertips with 52 gam...   \n",
       "12632     1.3     338  John, an unattached plumber, meets and falls i...   \n",
       "12633     1.2     125  Everybody is busy with the preparations for th...   \n",
       "12634     1.0     126  You get to select your bus and drive it across...   \n",
       "\n",
       "                                                    tags  \n",
       "0      Action, Adventure, Drama,9.8,Experience the em...  \n",
       "1      Action, Adventure, Crime,9.7,Amidst the declin...  \n",
       "2      Action, Adventure, Drama,9.7,Geralt is in the ...  \n",
       "3      Action, Adventure, Drama,9.7,A monster hunter ...  \n",
       "4      Action, Adventure, Drama,9.7,In a hostile, pos...  \n",
       "...                                                  ...  \n",
       "12630  Action, Adventure, Family,1.4,The first 3D Sup...  \n",
       "12631  Action, Family, Fantasy,1.3,Play the action at...  \n",
       "12632  Comedy, Romance,1.3,John, an unattached plumbe...  \n",
       "12633  Animation, Sport,1.2,Everybody is busy with th...  \n",
       "12634  Adventure, Family,1.0,You get to select your b...  \n",
       "\n",
       "[12635 rows x 6 columns]"
      ]
     },
     "execution_count": 9,
     "metadata": {},
     "output_type": "execute_result"
    }
   ],
   "source": [
    "df['tags'] = df['genre'].astype(str) + ',' + df['rating'].astype(str) + ',' + df['plot']\n",
    "df"
   ]
  },
  {
   "cell_type": "code",
   "execution_count": 10,
   "id": "eea89d91",
   "metadata": {},
   "outputs": [
    {
     "data": {
      "text/plain": [
       "title                               The Last of Us: Part I\n",
       "tags     Action, Adventure, Drama,9.8,Experience the em...\n",
       "Name: 0, dtype: object"
      ]
     },
     "execution_count": 10,
     "metadata": {},
     "output_type": "execute_result"
    }
   ],
   "source": [
    "df=df.iloc[:,[0,-1]]\n",
    "df.iloc[0]"
   ]
  },
  {
   "cell_type": "code",
   "execution_count": 11,
   "id": "687a1b0e",
   "metadata": {},
   "outputs": [],
   "source": [
    "import nltk"
   ]
  },
  {
   "cell_type": "code",
   "execution_count": 12,
   "id": "c28af8e5",
   "metadata": {},
   "outputs": [],
   "source": [
    "from nltk.stem.porter import PorterStemmer\n",
    "ps=PorterStemmer()"
   ]
  },
  {
   "cell_type": "code",
   "execution_count": 13,
   "id": "d20d114f",
   "metadata": {},
   "outputs": [],
   "source": [
    "def stem(text):\n",
    "    y=[]\n",
    "    for i in text.split():\n",
    "        y.append(ps.stem(i))\n",
    "    return \" \".join(y)"
   ]
  },
  {
   "cell_type": "code",
   "execution_count": 14,
   "id": "ddf7e54f",
   "metadata": {},
   "outputs": [
    {
     "data": {
      "text/plain": [
       "'cricket'"
      ]
     },
     "execution_count": 14,
     "metadata": {},
     "output_type": "execute_result"
    }
   ],
   "source": [
    "ps.stem('cricketer')"
   ]
  },
  {
   "cell_type": "code",
   "execution_count": 15,
   "id": "534fb0ab",
   "metadata": {},
   "outputs": [
    {
     "data": {
      "text/plain": [
       "0        action, adventure, drama,9.8,experi the emot s...\n",
       "1        action, adventure, crime,9.7,amidst the declin...\n",
       "2        action, adventure, drama,9.7,geralt is in the ...\n",
       "3        action, adventure, drama,9.7,a monster hunter ...\n",
       "4        action, adventure, drama,9.7,in a hostile, pos...\n",
       "                               ...                        \n",
       "12630    action, adventure, family,1.4,th first 3d supe...\n",
       "12631    action, family, fantasy,1.3,play the action at...\n",
       "12632    comedy, romance,1.3,john, an unattach plumber,...\n",
       "12633    animation, sport,1.2,everybodi is busi with th...\n",
       "12634    adventure, family,1.0,y get to select your bu ...\n",
       "Name: tags, Length: 12635, dtype: object"
      ]
     },
     "execution_count": 15,
     "metadata": {},
     "output_type": "execute_result"
    }
   ],
   "source": [
    "df['tags'].apply(stem)"
   ]
  },
  {
   "cell_type": "code",
   "execution_count": 17,
   "id": "bf9124e9",
   "metadata": {},
   "outputs": [],
   "source": [
    "from nltk.corpus import stopwords\n",
    "from string import punctuation"
   ]
  },
  {
   "cell_type": "code",
   "execution_count": 18,
   "id": "f87dbaf6",
   "metadata": {},
   "outputs": [],
   "source": [
    "from sklearn.feature_extraction.text import CountVectorizer\n",
    "cv=CountVectorizer(max_features=13000,stop_words='english')"
   ]
  },
  {
   "cell_type": "code",
   "execution_count": 19,
   "id": "1a6aa107",
   "metadata": {},
   "outputs": [],
   "source": [
    "vector =cv.fit_transform(df['tags']).toarray()"
   ]
  },
  {
   "cell_type": "code",
   "execution_count": 23,
   "id": "fcffbbdb",
   "metadata": {},
   "outputs": [
    {
     "data": {
      "text/plain": [
       "array(['000', '007', '0079', ..., 'zula', 'zx', 'état'], dtype=object)"
      ]
     },
     "execution_count": 23,
     "metadata": {},
     "output_type": "execute_result"
    }
   ],
   "source": [
    "cv.get_feature_names_out()"
   ]
  },
  {
   "cell_type": "code",
   "execution_count": 24,
   "id": "b3484a21",
   "metadata": {},
   "outputs": [],
   "source": [
    "from sklearn.metrics.pairwise import cosine_similarity"
   ]
  },
  {
   "cell_type": "code",
   "execution_count": 25,
   "id": "a8111961",
   "metadata": {},
   "outputs": [
    {
     "data": {
      "text/plain": [
       "[(6291, 0.42874646285627205),\n",
       " (9338, 0.42874646285627205),\n",
       " (11510, 0.38348249442368526),\n",
       " (2443, 0.37573457465108967),\n",
       " (12575, 0.37573457465108967)]"
      ]
     },
     "execution_count": 25,
     "metadata": {},
     "output_type": "execute_result"
    }
   ],
   "source": [
    "similarity=cosine_similarity(vector)\n",
    "sorted(list(enumerate(similarity[0])),reverse=True,key=lambda x:x[1])[1:6]"
   ]
  },
  {
   "cell_type": "code",
   "execution_count": 26,
   "id": "9ff65a6c",
   "metadata": {},
   "outputs": [],
   "source": [
    "def recommender(game):\n",
    "    game_index=df[df['title']==game].index[0]\n",
    "    distance=similarity[game_index]\n",
    "    game_list=sorted(list(enumerate(distance)),reverse=True,key=lambda x:x[1])[1:6]\n",
    "    for i in game_list:\n",
    "        print(df.iloc[i[0]].title)"
   ]
  },
  {
   "cell_type": "code",
   "execution_count": 28,
   "id": "4417d28e",
   "metadata": {},
   "outputs": [
    {
     "name": "stdout",
     "output_type": "stream",
     "text": [
      "Eternal Sonata\n",
      "Torchlight 2\n",
      "Brothers: A Tale of Two Sons\n",
      "Metal Gear Solid V: The Definitive Experience\n",
      "Steambot Chronicles\n"
     ]
    }
   ],
   "source": [
    "recommender('The Witcher 3: Wild Hunt')"
   ]
  },
  {
   "cell_type": "code",
   "execution_count": null,
   "id": "856aa412",
   "metadata": {},
   "outputs": [],
   "source": []
  },
  {
   "cell_type": "code",
   "execution_count": null,
   "id": "a50303c8",
   "metadata": {},
   "outputs": [],
   "source": []
  }
 ],
 "metadata": {
  "kernelspec": {
   "display_name": "Python 3 (ipykernel)",
   "language": "python",
   "name": "python3"
  },
  "language_info": {
   "codemirror_mode": {
    "name": "ipython",
    "version": 3
   },
   "file_extension": ".py",
   "mimetype": "text/x-python",
   "name": "python",
   "nbconvert_exporter": "python",
   "pygments_lexer": "ipython3",
   "version": "3.11.4"
  }
 },
 "nbformat": 4,
 "nbformat_minor": 5
}
